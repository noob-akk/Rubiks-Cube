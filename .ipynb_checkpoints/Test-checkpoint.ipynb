{
 "cells": [
  {
   "cell_type": "code",
   "execution_count": null,
   "metadata": {},
   "outputs": [],
   "source": [
    "from Cube import Cube\n",
    "from matplotlib import pyplot as plt\n",
    "\n",
    "plt.ion()\n",
    "\n",
    "myCube = Cube()\n",
    "cmds = \"f',r',u',l',d',b'\"\n",
    "myCube.render()\n",
    "\n",
    "for command in cmds.split(\",\"):\n",
    "    myCube.rotate_face(command)\n",
    "    myCube.render()"
   ]
  },
  {
   "cell_type": "code",
   "execution_count": null,
   "metadata": {},
   "outputs": [],
   "source": []
  }
 ],
 "metadata": {
  "kernelspec": {
   "display_name": "Python 3",
   "language": "python",
   "name": "python3"
  },
  "language_info": {
   "codemirror_mode": {
    "name": "ipython",
    "version": 3
   },
   "file_extension": ".py",
   "mimetype": "text/x-python",
   "name": "python",
   "nbconvert_exporter": "python",
   "pygments_lexer": "ipython3",
   "version": "3.5.2"
  }
 },
 "nbformat": 4,
 "nbformat_minor": 2
}
